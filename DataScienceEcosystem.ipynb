{
 "cells": [
  {
   "cell_type": "markdown",
   "id": "be603be5-69aa-4c99-a9ca-cccc43a8179c",
   "metadata": {},
   "source": [
    "# Data Science Tools and Ecosystem"
   ]
  },
  {
   "cell_type": "markdown",
   "id": "74d9af99-bda3-41a2-b04a-f850430054a9",
   "metadata": {},
   "source": [
    "#### In this notebook, Data Science Tools and Ecosystem are summarized."
   ]
  },
  {
   "cell_type": "markdown",
   "id": "5f028231-bd13-43ee-955f-2a95c9c8af3e",
   "metadata": {},
   "source": [
    "##### Some of the popular languages that Data Scientists use are:"
   ]
  },
  {
   "cell_type": "markdown",
   "id": "4f20e231-3912-4a0b-82f0-331f6c57f512",
   "metadata": {},
   "source": [
    "##### Some of the popular languages that Data Scientists use are:\n",
    "1. Python\n",
    "2. R\n",
    "3. SQL"
   ]
  },
  {
   "cell_type": "markdown",
   "id": "315cf58e-29c5-406f-8060-16eeb324ec6f",
   "metadata": {},
   "source": [
    "##### Some of the commonly used libraries used by Data Scientists include:\n",
    "1. Pandas and NumPy for Data Manipulation\n",
    "2. Matplotlib for Data Visualization\n",
    "3. Scikit-learn for Machine Learning \n",
    "4. Tensor flow and PyTorch for Deep Learning"
   ]
  },
  {
   "cell_type": "markdown",
   "id": "e18a42c7-8ce0-4882-be8e-806e32cfdbec",
   "metadata": {},
   "source": [
    "| Data Science Tools |\n",
    "| --------------------- |\n",
    "| Jupyter Notebook |\n",
    "| GitHub |\n",
    "| MySQL |"
   ]
  },
  {
   "cell_type": "markdown",
   "id": "3aaa2d4e-bc7b-4793-a8ca-784ca5ebfe1d",
   "metadata": {},
   "source": [
    "### Below are a few examples of evaluating arithmetic expressions in Python"
   ]
  },
  {
   "cell_type": "code",
   "execution_count": 30,
   "id": "3ef439ab-5bb9-4122-b5ab-1886a65b3c5e",
   "metadata": {},
   "outputs": [
    {
     "data": {
      "text/html": [
       "17"
      ],
      "text/latex": [
       "17"
      ],
      "text/markdown": [
       "17"
      ],
      "text/plain": [
       "[1] 17"
      ]
     },
     "metadata": {},
     "output_type": "display_data"
    }
   ],
   "source": [
    "(3*4)+5  # This a simple arithmetic expression to mutiply then add integers"
   ]
  },
  {
   "cell_type": "code",
   "execution_count": 34,
   "id": "b8968949-577b-402d-aa9f-55f1c91177af",
   "metadata": {},
   "outputs": [
    {
     "name": "stdout",
     "output_type": "stream",
     "text": [
      "[1] 3.333333\n"
     ]
    }
   ],
   "source": [
    "a <- 200 \n",
    "b <- 200/60\n",
    "print(b)\n",
    "# This will convert 200 minutes to hours by diving by 60"
   ]
  },
  {
   "cell_type": "markdown",
   "id": "44c7cc53-af7d-49eb-8776-c8fa53d59793",
   "metadata": {},
   "source": [
    "**Objectives:**\n",
    "- Python\n",
    "- R\n",
    "- SQL\n",
    "- JavaScript\n",
    "- Java\n",
    "- julia"
   ]
  },
  {
   "cell_type": "markdown",
   "id": "be75c0a6-23f3-42da-b260-264ffa527fbb",
   "metadata": {},
   "source": [
    "## Author \n",
    "Om Mahajan"
   ]
  },
  {
   "cell_type": "code",
   "execution_count": null,
   "id": "7e146ddb-8338-425f-b43a-31d951f6469a",
   "metadata": {},
   "outputs": [],
   "source": []
  }
 ],
 "metadata": {
  "kernelspec": {
   "display_name": "R [conda env:RP_env]",
   "language": "R",
   "name": "conda-env-RP_env-r"
  },
  "language_info": {
   "codemirror_mode": "r",
   "file_extension": ".r",
   "mimetype": "text/x-r-source",
   "name": "R",
   "pygments_lexer": "r",
   "version": "3.6.1"
  }
 },
 "nbformat": 4,
 "nbformat_minor": 5
}
